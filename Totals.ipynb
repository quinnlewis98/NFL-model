{
 "cells": [
  {
   "cell_type": "code",
   "execution_count": 9,
   "metadata": {},
   "outputs": [
    {
     "name": "stdout",
     "output_type": "stream",
     "text": [
      "Modules Imported!\n"
     ]
    }
   ],
   "source": [
    "%matplotlib inline\n",
    "import matplotlib.pyplot as plt\n",
    "import numpy as np\n",
    "import scipy as sp\n",
    "import scipy.stats as st\n",
    "import scipy.linalg as la\n",
    "from math import sqrt\n",
    "from math import log\n",
    "from math import exp\n",
    "import math\n",
    "import pandas as pd\n",
    "from pandas import DataFrame\n",
    "print(\"Modules Imported!\")"
   ]
  },
  {
   "cell_type": "markdown",
   "metadata": {},
   "source": [
    "# Team Indices"
   ]
  },
  {
   "cell_type": "code",
   "execution_count": 10,
   "metadata": {},
   "outputs": [
    {
     "name": "stdout",
     "output_type": "stream",
     "text": [
      "0 Arizona Cardinals\n",
      "1 Atlanta Falcons\n",
      "2 Baltimore Ravens\n",
      "3 Buffalo Bills\n",
      "4 Carolina Panthers\n",
      "5 Chicago Bears\n",
      "6 Cincinnati Bengals\n",
      "7 Cleveland Browns\n",
      "8 Dallas Cowboys\n",
      "9 Denver Broncos\n",
      "10 Detroit Lions\n",
      "11 Green Bay Packers\n",
      "12 Houston Texans\n",
      "13 Indianapolis Colts\n",
      "14 Jacksonville Jaguars\n",
      "15 Kansas City Chiefs\n",
      "16 Las Vegas Raiders\n",
      "17 Los Angeles Chargers\n",
      "18 Los Angeles Rams\n",
      "19 Miami Dolphins\n",
      "20 Minnesota Vikings\n",
      "21 New England Patriots\n",
      "22 New Orleans Saints\n",
      "23 New York Giants\n",
      "24 New York Jets\n",
      "25 Philadelphia Eagles\n",
      "26 Pittsburgh Steelers\n",
      "27 San Francisco 49ers\n",
      "28 Seattle Seahawks\n",
      "29 Tampa Bay Buccaneers\n",
      "30 Tennessee Titans\n",
      "31 Washington Football Team\n",
      "32 Avg Team\n",
      "33 League Total\n",
      "34 Avg Tm/G\n"
     ]
    }
   ],
   "source": [
    "offense = pd.read_csv(\"OffensiveStats.csv\", delimiter=',')\n",
    "defense = pd.read_csv(\"DefensiveStats.csv\", delimiter=',')\n",
    "for index, row in offense.iterrows():\n",
    "    print(index , row['Tm'])\n",
    "    \n",
    "def teamIndex(t):\n",
    "    if t == \"ARI\":\n",
    "        return 0\n",
    "    elif t == \"ATL\":\n",
    "        return 1\n",
    "    elif t == \"BAL\":\n",
    "        return 2\n",
    "    elif t == \"BUF\":\n",
    "        return 3\n",
    "    elif t == \"CAR\":\n",
    "        return 4\n",
    "    elif t == \"CHI\":\n",
    "        return 5\n",
    "    elif t == \"CIN\":\n",
    "        return 6\n",
    "    elif t == \"CLE\":\n",
    "        return 7\n",
    "    elif t == \"DAL\":\n",
    "        return 8\n",
    "    elif t == \"DEN\":\n",
    "        return 9\n",
    "    elif t == \"DET\":\n",
    "        return 10\n",
    "    elif t == \"GB\":\n",
    "        return 11\n",
    "    elif t == \"HOU\":\n",
    "        return 12\n",
    "    elif t == \"IND\":\n",
    "        return 13\n",
    "    elif t == \"JAX\":\n",
    "        return 14\n",
    "    elif t == \"KC\":\n",
    "        return 15\n",
    "    elif t == \"LV\" or t == \"OAK\":\n",
    "        return 16\n",
    "    elif t == \"LAC\" or t== \"SD\":\n",
    "        return 17\n",
    "    elif t == \"LA\" or t== \"STL\":\n",
    "        return 18\n",
    "    elif t == \"MIA\":\n",
    "        return 19\n",
    "    elif t == \"MIN\":\n",
    "        return 20\n",
    "    elif t == \"NE\":\n",
    "        return 21\n",
    "    elif t == \"NO\":\n",
    "        return 22\n",
    "    elif t == \"NYG\":\n",
    "        return 23\n",
    "    elif t == \"NYJ\":\n",
    "        return 24\n",
    "    elif t == \"PHI\":\n",
    "        return 25\n",
    "    elif t == \"PIT\":\n",
    "        return 26\n",
    "    elif t == \"SF\":\n",
    "        return 27\n",
    "    elif t == \"SEA\":\n",
    "        return 28\n",
    "    elif t == \"TB\":\n",
    "        return 29\n",
    "    elif t == \"TEN\":\n",
    "        return 30\n",
    "    elif t == \"WAS\":\n",
    "        return 31"
   ]
  },
  {
   "cell_type": "markdown",
   "metadata": {},
   "source": [
    "# Weights"
   ]
  },
  {
   "cell_type": "code",
   "execution_count": 11,
   "metadata": {},
   "outputs": [],
   "source": [
    "#Needed Stats\n",
    "OPass = offense[\"NY/A\"].values\n",
    "DPass = defense[\"NY/A\"].values\n",
    "ORush = offense[\"Y/A\"].values\n",
    "DRush = defense[\"Y/A\"].values\n",
    "OPen = offense[\"1stPy\"].values\n",
    "DPen = defense[\"1stPy\"].values\n",
    "OTO = offense[\"TO%\"].values\n",
    "DTO = defense[\"TO%\"].values\n",
    "OSc = offense[\"Sc%\"].values\n",
    "DSc = defense[\"Sc%\"].values\n",
    "OPly = offense[\"Ply\"].values\n",
    "DPly = defense[\"Ply\"].values\n",
    "OExp = offense[\"EXP\"].values\n",
    "DExp = defense[\"EXP\"].values\n",
    "Gs = offense[\"G\"].values\n",
    "\n",
    "teams = len(offense)\n",
    "rows, cols = (teams, 15) \n",
    "\n",
    "def addStats(rows, cols):\n",
    "    arr = np.zeros((rows, cols)) \n",
    "    arr[:,0] = OPass \n",
    "    arr[:,1] = DPass\n",
    "    arr[:,2] = ORush\n",
    "    arr[:,3] = DRush\n",
    "    arr[:,4] = OPen\n",
    "    arr[:,5] = DPen\n",
    "    arr[:,6] = OTO\n",
    "    arr[:,7] = DTO\n",
    "    arr[:,8] = OSc \n",
    "    arr[:,9] = DSc\n",
    "    arr[:,10] = OPly \n",
    "    arr[:,11] = DPly\n",
    "    arr[:,12] = OExp\n",
    "    arr[:,13] = DExp \n",
    "    arr[:,14] = Gs\n",
    "    return arr\n",
    "statArray = addStats(rows, cols)"
   ]
  },
  {
   "cell_type": "code",
   "execution_count": 12,
   "metadata": {},
   "outputs": [],
   "source": [
    "def RunGame(team1, team2):\n",
    "    x1 = (statArray[team1][0] + statArray[team2][1])*statArray[team1][10]/2\n",
    "    y1 = (statArray[team2][0] + statArray[team1][1])*statArray[team2][10]/2\n",
    "    x2 = (statArray[team1][2] + statArray[team2][3])*statArray[team1][10]/2\n",
    "    y2 = (statArray[team2][2] + statArray[team1][3])*statArray[team2][10]/2\n",
    "    x3 = (0.5*statArray[team1][4]/statArray[team1][14] + 0.5*statArray[team2][5]/statArray[team2][14])\n",
    "    y3 = (0.5*statArray[team2][4]/statArray[team2][14] + 0.5*statArray[team1][5]/statArray[team1][14])\n",
    "    x4 = (0.5*statArray[team1][6] + 0.5*statArray[team2][7])\n",
    "    y4 = (0.5*statArray[team2][6] + 0.5*statArray[team1][7])\n",
    "    x5 = (0.5*statArray[team1][8] + 0.5*statArray[team2][9])\n",
    "    y5 = (0.5*statArray[team2][8] + 0.5*statArray[team1][9])\n",
    "    x6 = (statArray[team1][10] + statArray[team2][11])/2\n",
    "    y6 = (statArray[team2][10] + statArray[team1][11])/2\n",
    "    home = 0.1\n",
    "    return [x1,y1,x2,y2,x3,y3,x4,y4,x5,y5,home]\n",
    "\n",
    "#Must change this!!\n",
    "RunGamesSize = 11\n",
    "\n",
    "def CalculateGame(team1,team2,theta):\n",
    "    X = RunGame(team1, team2)\n",
    "    return X@theta"
   ]
  },
  {
   "cell_type": "markdown",
   "metadata": {},
   "source": [
    "# Training"
   ]
  },
  {
   "cell_type": "code",
   "execution_count": 13,
   "metadata": {
    "scrolled": true
   },
   "outputs": [
    {
     "name": "stdout",
     "output_type": "stream",
     "text": [
      "(147, 11)\n",
      "(147, 1)\n",
      "(11, 1)\n",
      "[[ 5.81113747e-03]\n",
      " [ 2.22450255e-03]\n",
      " [-4.05636731e-04]\n",
      " [ 6.99945535e-03]\n",
      " [-1.73697283e+00]\n",
      " [ 3.60361658e+00]\n",
      " [-3.30778099e-01]\n",
      " [ 1.68644413e-01]\n",
      " [-2.73984338e-02]\n",
      " [ 4.55035004e-01]\n",
      " [-4.63533223e+02]]\n"
     ]
    }
   ],
   "source": [
    "games = pd.read_csv(\"http://www.habitatring.com/games.csv\")\n",
    "games = games[games['season']>= 2020]\n",
    "games = games[games['week']<=10]\n",
    "games = games.filter(items = [ 'home_team','away_team', 'total','total_line'])\n",
    "\n",
    "X = np.zeros((len(games),RunGamesSize))\n",
    "Y = np.zeros(len(games))\n",
    "\n",
    "i = 0\n",
    "for index, row in games.iterrows():\n",
    "    X[i] = RunGame(teamIndex(row['home_team']), teamIndex(row['away_team']))\n",
    "    Y[i] = row['total']\n",
    "    i+=1\n",
    "\n",
    "Y = np.reshape(Y, [len(games),1])\n",
    "\n",
    "xT = np.transpose(X)\n",
    "yT = np.transpose(Y)\n",
    "\n",
    "theta = la.inv(xT@X)@xT@Y\n",
    "    \n",
    "print(np.shape(X))\n",
    "print(np.shape(Y))\n",
    "print(np.shape(theta))\n",
    "print(theta)"
   ]
  },
  {
   "cell_type": "markdown",
   "metadata": {},
   "source": [
    "# Testing Past Games"
   ]
  },
  {
   "cell_type": "code",
   "execution_count": 14,
   "metadata": {},
   "outputs": [
    {
     "name": "stdout",
     "output_type": "stream",
     "text": [
      "Predicted  132 out of  223  games' totals correctly  with 0 points confidence\n"
     ]
    }
   ],
   "source": [
    "games = pd.read_csv(\"http://www.habitatring.com/games.csv\")\n",
    "games = games[games['season']==2020]\n",
    "games = games[games['week']<=15]\n",
    "games = games.filter(items = [ 'home_team','away_team', 'total','total_line', 'season'])\n",
    "\n",
    "confidencePoints = 0\n",
    "correct = 0;\n",
    "total = 0;\n",
    "for index, row in games.iterrows():\n",
    "    predicted = float(CalculateGame(teamIndex(row['home_team']), teamIndex(row['away_team']),theta))\n",
    "    predicted = round(predicted,1)\n",
    "    spread = row['total_line']\n",
    "    actual = row['total']\n",
    "    if((predicted+confidencePoints<spread and actual<spread) or (predicted-confidencePoints>spread and actual>spread)):\n",
    "        if(not math.isnan(actual)):\n",
    "            #print(row['home_team'], \"vs \", row['away_team'], row['season'])\n",
    "            #print(\"Predicted Total: \", predicted)\n",
    "            #print(\"Total Line: \", spread)\n",
    "            #print(\"Actual Total: \" , actual)\n",
    "            correct+=1\n",
    "            total+=1\n",
    "    if(not math.isnan(actual) and abs(predicted-spread)>confidencePoints):\n",
    "        if(not(predicted+confidencePoints<spread and actual<spread) and not(predicted-confidencePoints>spread and actual>spread)):\n",
    "            #print(row['home_team'], \"vs \", row['away_team'], row['season'])\n",
    "            #print(\"Predicted Total: \", predicted)\n",
    "            #print(\"Total Line: \", spread)\n",
    "            #print(\"Actual Total: \" , actual)\n",
    "            total+=1\n",
    "    \n",
    "print(\"Predicted \", correct, \"out of \", total, \" games' totals correctly  with\", confidencePoints, \"points confidence\")"
   ]
  },
  {
   "cell_type": "markdown",
   "metadata": {},
   "source": [
    "# Future Games"
   ]
  },
  {
   "cell_type": "code",
   "execution_count": 15,
   "metadata": {},
   "outputs": [
    {
     "name": "stdout",
     "output_type": "stream",
     "text": [
      "BUF vs  MIA 2020\n",
      "Predicted Total:  51.6\n",
      "Actual Total:  43.0\n",
      "CIN vs  BAL 2020\n",
      "Predicted Total:  49.2\n",
      "Actual Total:  45.0\n",
      "CLE vs  PIT 2020\n",
      "Predicted Total:  44.5\n",
      "Actual Total:  45.0\n",
      "DET vs  MIN 2020\n",
      "Predicted Total:  56.5\n",
      "Actual Total:  54.0\n",
      "NE vs  NYJ 2020\n",
      "Predicted Total:  38.7\n",
      "Actual Total:  41.0\n",
      "NYG vs  DAL 2020\n",
      "Predicted Total:  45.5\n",
      "Actual Total:  43.5\n",
      "TB vs  ATL 2020\n",
      "Predicted Total:  48.0\n",
      "Actual Total:  50.5\n",
      "CAR vs  NO 2020\n",
      "Predicted Total:  51.7\n",
      "Actual Total:  46.5\n",
      "CHI vs  GB 2020\n",
      "Predicted Total:  49.3\n",
      "Actual Total:  48.5\n",
      "DEN vs  LV 2020\n",
      "Predicted Total:  52.0\n",
      "Actual Total:  50.0\n",
      "HOU vs  TEN 2020\n",
      "Predicted Total:  58.8\n",
      "Actual Total:  54.0\n",
      "IND vs  JAX 2020\n",
      "Predicted Total:  49.9\n",
      "Actual Total:  48.0\n",
      "KC vs  LAC 2020\n",
      "Predicted Total:  57.0\n",
      "Actual Total:  43.5\n",
      "LA vs  ARI 2020\n",
      "Predicted Total:  49.4\n",
      "Actual Total:  41.5\n",
      "SF vs  SEA 2020\n",
      "Predicted Total:  51.0\n",
      "Actual Total:  46.0\n",
      "PHI vs  WAS 2020\n",
      "Predicted Total:  40.5\n",
      "Actual Total:  43.0\n",
      "16 games with confidence of 0 points\n"
     ]
    }
   ],
   "source": [
    "games = pd.read_csv(\"http://www.habitatring.com/games.csv\")\n",
    "games = games[games['season']==2020]\n",
    "games = games[games['week']==17]\n",
    "games = games.filter(items = [ 'home_team','away_team', 'total','total_line', 'season'])\n",
    "\n",
    "total = 0\n",
    "\n",
    "for index, row in games.iterrows():\n",
    "    predicted = float(CalculateGame(teamIndex(row['home_team']), teamIndex(row['away_team']),theta))\n",
    "    predicted = round(predicted,1)\n",
    "    spread = row['total_line']\n",
    "    if(abs(predicted-spread)>=confidencePoints):\n",
    "        print(row['home_team'], \"vs \", row['away_team'], row['season'])\n",
    "        print(\"Predicted Total: \", predicted)\n",
    "        print(\"Actual Total: \", spread)\n",
    "        total+=1\n",
    "        \n",
    "print(total, \"games with confidence of\", confidencePoints, \"points\")"
   ]
  },
  {
   "cell_type": "markdown",
   "metadata": {},
   "source": [
    "# Over/Unders"
   ]
  },
  {
   "cell_type": "code",
   "execution_count": 16,
   "metadata": {},
   "outputs": [
    {
     "name": "stdout",
     "output_type": "stream",
     "text": [
      "Predicted  39 out of  70  games' totals correctly  with 0 points confidence\n"
     ]
    }
   ],
   "source": [
    "games = pd.read_csv(\"http://www.habitatring.com/games.csv\")\n",
    "games = games[games['season']<=2019]\n",
    "games = games[games['season']>=2010]\n",
    "games = games.filter(items = [ 'home_team','away_team', 'total','total_line', 'season'])\n",
    "\n",
    "confidencePoints = 0\n",
    "correct = 0;\n",
    "total = 0;\n",
    "for index, row in games.iterrows():\n",
    "    predicted = float(CalculateGame(teamIndex(row['home_team']), teamIndex(row['away_team']),theta))\n",
    "    predicted = round(predicted,1)\n",
    "    spread = row['total_line']\n",
    "    actual = row['total']\n",
    "    if(spread>54):\n",
    "            #print(row['home_team'], \"vs \", row['away_team'], row['season'])\n",
    "            #print(\"Predicted Total: \", predicted)\n",
    "            #print(\"Total Line: \", spread)\n",
    "            #print(\"Actual Total: \" , actual)\n",
    "        if(actual<spread):\n",
    "            correct+=1\n",
    "        total+=1\n",
    "    \n",
    "print(\"Predicted \", correct, \"out of \", total, \" games' totals correctly  with\", confidencePoints, \"points confidence\")"
   ]
  }
 ],
 "metadata": {
  "kernelspec": {
   "display_name": "Python 3",
   "language": "python",
   "name": "python3"
  },
  "language_info": {
   "codemirror_mode": {
    "name": "ipython",
    "version": 3
   },
   "file_extension": ".py",
   "mimetype": "text/x-python",
   "name": "python",
   "nbconvert_exporter": "python",
   "pygments_lexer": "ipython3",
   "version": "3.7.4"
  }
 },
 "nbformat": 4,
 "nbformat_minor": 2
}
