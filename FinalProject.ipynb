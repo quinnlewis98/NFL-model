{
 "cells": [
  {
   "cell_type": "code",
   "execution_count": 45,
   "metadata": {},
   "outputs": [
    {
     "name": "stdout",
     "output_type": "stream",
     "text": [
      "Modules Imported!\n"
     ]
    }
   ],
   "source": [
    "%matplotlib inline\n",
    "import matplotlib.pyplot as plt\n",
    "import numpy as np\n",
    "import scipy as sp\n",
    "import scipy.stats as st\n",
    "import scipy.linalg as la\n",
    "from math import sqrt\n",
    "from math import log\n",
    "from math import exp\n",
    "import math\n",
    "import pandas as pd\n",
    "from pandas import DataFrame\n",
    "print(\"Modules Imported!\")"
   ]
  },
  {
   "cell_type": "markdown",
   "metadata": {},
   "source": [
    "# Team Indices"
   ]
  },
  {
   "cell_type": "code",
   "execution_count": 46,
   "metadata": {},
   "outputs": [],
   "source": [
    "offense = pd.read_csv(\"OffensiveStats.csv\", delimiter=',')\n",
    "defense = pd.read_csv(\"DefensiveStats.csv\", delimiter=',')\n",
    "#for index, row in offense.iterrows():\n",
    "    #print(index , row['Tm'])"
   ]
  },
  {
   "cell_type": "markdown",
   "metadata": {},
   "source": [
    "# Setting up Matrix"
   ]
  },
  {
   "cell_type": "code",
   "execution_count": 47,
   "metadata": {},
   "outputs": [],
   "source": [
    "#Needed Stats\n",
    "OPass = offense[\"NY/A\"].values\n",
    "DPass = defense[\"NY/A\"].values\n",
    "ORush = offense[\"Y/A\"].values\n",
    "DRush = defense[\"Y/A\"].values\n",
    "OPen = offense[\"PenYds\"].values\n",
    "DPen = defense[\"PenYds\"].values\n",
    "OTO = offense[\"TO%\"].values\n",
    "DTO = defense[\"TO%\"].values\n",
    "OSc = offense[\"Sc%\"].values\n",
    "DSc = defense[\"Sc%\"].values\n",
    "OPly = offense[\"Ply\"].values\n",
    "DPly = defense[\"Ply\"].values\n",
    "OExp = offense[\"EXP\"].values\n",
    "DExp = defense[\"EXP\"].values\n",
    "Gs = offense[\"G\"].values\n",
    "\n",
    "teams = len(offense)\n",
    "rows, cols = (teams, 15) \n",
    "       \n",
    "def addStats(rows, cols):\n",
    "    arr = np.zeros((rows, cols)) \n",
    "    arr[:,0] = OPass \n",
    "    arr[:,1] = DPass\n",
    "    arr[:,2] = ORush\n",
    "    arr[:,3] = DRush\n",
    "    arr[:,4] = OPen\n",
    "    arr[:,5] = DPen\n",
    "    arr[:,6] = OTO\n",
    "    arr[:,7] = DTO\n",
    "    arr[:,8] = OSc \n",
    "    arr[:,9] = DSc\n",
    "    arr[:,10] = OPly \n",
    "    arr[:,11] = DPly\n",
    "    arr[:,12] = OExp\n",
    "    arr[:,13] = DExp \n",
    "    arr[:,14] = Gs\n",
    "    return arr\n",
    "statArray = addStats(rows, cols)\n"
   ]
  },
  {
   "cell_type": "markdown",
   "metadata": {},
   "source": [
    "# Weight Stats"
   ]
  },
  {
   "cell_type": "code",
   "execution_count": 48,
   "metadata": {},
   "outputs": [],
   "source": [
    "def RunGame(team1, team2):\n",
    "    x1 = (statArray[team1][0] + statArray[team2][1])*statArray[team1][10]/2\n",
    "    y1 = (statArray[team2][0] + statArray[team1][1])*statArray[team2][10]/2\n",
    "    x2 = (statArray[team1][2] + statArray[team2][3])*statArray[team1][10]/2\n",
    "    y2 = (statArray[team2][2] + statArray[team1][3])*statArray[team2][10]/2\n",
    "    x3 = (0.5*statArray[team1][4]/statArray[team1][14] + 0.5*statArray[team2][5]/statArray[team2][14])\n",
    "    y3 = (0.5*statArray[team2][4]/statArray[team2][14] + 0.5*statArray[team1][5]/statArray[team1][14])\n",
    "    x4 = (0.5*statArray[team1][6] + 0.5*statArray[team2][7])\n",
    "    y4 = (0.5*statArray[team2][6] + 0.5*statArray[team1][7])\n",
    "    x5 = (0.5*statArray[team1][8] + 0.5*statArray[team2][9])\n",
    "    y5 = (0.5*statArray[team2][8] + 0.5*statArray[team1][9])\n",
    "    x6 = (statArray[team1][10] + statArray[team2][11])/2\n",
    "    y6 = (statArray[team2][10] + statArray[team1][11])/2\n",
    "    home = 0.1\n",
    "    return [x1+x2,y1+y2,x3-y3,x4-y4,x5-y5,home]\n",
    "\n",
    "#Must change this!!\n",
    "RunGamesSize = 6\n",
    "\n",
    "def CalculateGame(team1,team2,theta):\n",
    "    X = RunGame(team1, team2)\n",
    "    return X@theta"
   ]
  },
  {
   "cell_type": "markdown",
   "metadata": {},
   "source": [
    "# Matching Index to Teams"
   ]
  },
  {
   "cell_type": "code",
   "execution_count": 49,
   "metadata": {},
   "outputs": [],
   "source": [
    "def teamIndex(t):\n",
    "    if t == \"ARI\":\n",
    "        return 0\n",
    "    elif t == \"ATL\":\n",
    "        return 1\n",
    "    elif t == \"BAL\":\n",
    "        return 2\n",
    "    elif t == \"BUF\":\n",
    "        return 3\n",
    "    elif t == \"CAR\":\n",
    "        return 4\n",
    "    elif t == \"CHI\":\n",
    "        return 5\n",
    "    elif t == \"CIN\":\n",
    "        return 6\n",
    "    elif t == \"CLE\":\n",
    "        return 7\n",
    "    elif t == \"DAL\":\n",
    "        return 8\n",
    "    elif t == \"DEN\":\n",
    "        return 9\n",
    "    elif t == \"DET\":\n",
    "        return 10\n",
    "    elif t == \"GB\":\n",
    "        return 11\n",
    "    elif t == \"HOU\":\n",
    "        return 12\n",
    "    elif t == \"IND\":\n",
    "        return 13\n",
    "    elif t == \"JAX\":\n",
    "        return 14\n",
    "    elif t == \"KC\":\n",
    "        return 15\n",
    "    elif t == \"LV\" or t == \"OAK\":\n",
    "        return 16\n",
    "    elif t == \"LAC\" or t== \"SD\":\n",
    "        return 17\n",
    "    elif t == \"LA\" or t== \"STL\":\n",
    "        return 18\n",
    "    elif t == \"MIA\":\n",
    "        return 19\n",
    "    elif t == \"MIN\":\n",
    "        return 20\n",
    "    elif t == \"NE\":\n",
    "        return 21\n",
    "    elif t == \"NO\":\n",
    "        return 22\n",
    "    elif t == \"NYG\":\n",
    "        return 23\n",
    "    elif t == \"NYJ\":\n",
    "        return 24\n",
    "    elif t == \"PHI\":\n",
    "        return 25\n",
    "    elif t == \"PIT\":\n",
    "        return 26\n",
    "    elif t == \"SF\":\n",
    "        return 27\n",
    "    elif t == \"SEA\":\n",
    "        return 28\n",
    "    elif t == \"TB\":\n",
    "        return 29\n",
    "    elif t == \"TEN\":\n",
    "        return 30\n",
    "    elif t == \"WAS\":\n",
    "        return 31"
   ]
  },
  {
   "cell_type": "markdown",
   "metadata": {},
   "source": [
    "# Training Theta"
   ]
  },
  {
   "cell_type": "code",
   "execution_count": 50,
   "metadata": {},
   "outputs": [
    {
     "name": "stdout",
     "output_type": "stream",
     "text": [
      "(256, 6)\n",
      "(256, 1)\n",
      "(6, 1)\n",
      "[[ 1.26483472e-03]\n",
      " [-1.81414852e-03]\n",
      " [-1.36101791e-02]\n",
      " [-1.31965762e-01]\n",
      " [ 9.64286902e-01]\n",
      " [ 6.16962356e+01]]\n"
     ]
    }
   ],
   "source": [
    "games = pd.read_csv(\"http://www.habitatring.com/games.csv\")\n",
    "games = games[games['season']== 2020]\n",
    "games = games[games['week']<=17]\n",
    "games = games.filter(items = [ 'home_team','away_team', 'result','spread_line'])\n",
    "\n",
    "X = np.zeros((len(games),RunGamesSize))\n",
    "Y = np.zeros(len(games))\n",
    "\n",
    "i = 0\n",
    "for index, row in games.iterrows():\n",
    "    X[i] = RunGame(teamIndex(row['home_team']), teamIndex(row['away_team']))\n",
    "    Y[i] = row['result']\n",
    "    i+=1\n",
    "\n",
    "Y = np.reshape(Y, [len(games),1])\n",
    "\n",
    "xT = np.transpose(X)\n",
    "yT = np.transpose(Y)\n",
    "\n",
    "theta = la.inv(xT@X)@xT@Y\n",
    "    \n",
    "print(np.shape(X))\n",
    "print(np.shape(Y))\n",
    "print(np.shape(theta))\n",
    "print(theta)"
   ]
  },
  {
   "cell_type": "markdown",
   "metadata": {},
   "source": [
    "# Testing Past Games"
   ]
  },
  {
   "cell_type": "code",
   "execution_count": 51,
   "metadata": {
    "scrolled": true
   },
   "outputs": [
    {
     "name": "stdout",
     "output_type": "stream",
     "text": [
      "Predicted  158 out of  252  games correctly against the spread with 0 points confidence\n",
      "Out of 252  predictions,  127 were away teams and  125 were home team with 0 ties\n"
     ]
    }
   ],
   "source": [
    "games = pd.read_csv(\"http://www.habitatring.com/games.csv\")\n",
    "games = games[games['season']==2020]\n",
    "games = games[games['week']<=17]\n",
    "games = games.filter(items = [ 'home_team','away_team', 'result','spread_line', 'season'])\n",
    "\n",
    "confidencePoints = 0\n",
    "correct = 0;\n",
    "away = 0\n",
    "home = 0\n",
    "tie= 0\n",
    "total = 0;\n",
    "muM = 0\n",
    "muS = 0\n",
    "varM = 0\n",
    "varS = 0\n",
    "Z1=[];\n",
    "Z2=[];\n",
    "for index, row in games.iterrows():\n",
    "    predicted = float(CalculateGame(teamIndex(row['home_team']), teamIndex(row['away_team']),theta))\n",
    "    predicted = round(predicted,1)\n",
    "    spread  = row['spread_line']\n",
    "    actual = row['result']\n",
    "    Z1.append(predicted-actual)\n",
    "    Z2.append(spread-actual)\n",
    "    muM += predicted-actual\n",
    "    muS += spread-actual\n",
    "    if((predicted+confidencePoints<spread and actual<spread) or (predicted-confidencePoints>spread and actual>spread)):\n",
    "        if(not math.isnan(actual)):\n",
    "            #print(row['home_team'], \"vs \", row['away_team'], row['season'])\n",
    "            #print(\"Predicted Spread: \", predicted)\n",
    "            #print(\"Actual Spread: \", spread)\n",
    "            #print(\"Actual Score: \" , actual)\n",
    "            correct+=1\n",
    "    if(not math.isnan(actual) and abs(predicted-spread)>confidencePoints):\n",
    "        #if(not(predicted+confidencePoints<spread and actual<spread) and not(predicted-confidencePoints>spread and actual>spread)):\n",
    "         #   print(row['home_team'], \"vs \", row['away_team'], row['season'])\n",
    "          #  print(\"Predicted Spread: \", predicted)\n",
    "           # print(\"Actual Spread: \", spread)\n",
    "            #print(\"Actual Score: \" , actual)\n",
    "        total+=1\n",
    "        if(spread<actual):\n",
    "            home +=1\n",
    "        elif(spread>actual):\n",
    "            away+=1\n",
    "        else: \n",
    "            tie+=1\n",
    "muS = muS/total\n",
    "muM = muM/total\n",
    "for index, row in games.iterrows():\n",
    "    predicted = float(CalculateGame(teamIndex(row['home_team']), teamIndex(row['away_team']),theta))\n",
    "    predicted = round(predicted,1)\n",
    "    spread  = row['spread_line']\n",
    "    actual = row['result']\n",
    "    varM += ((predicted-actual)-muM)**2\n",
    "    varS += ((spread-actual)-muS)**2\n",
    "varM = varM/total\n",
    "varS = varS/total\n",
    "    \n",
    "print(\"Predicted \", correct, \"out of \", total, \" games correctly against the spread with\", confidencePoints, \"points confidence\")\n",
    "print(\"Out of\", total, \" predictions, \", away, \"were away teams and \", home, \"were home team with\", tie, \"ties\")"
   ]
  },
  {
   "cell_type": "code",
   "execution_count": null,
   "metadata": {},
   "outputs": [],
   "source": []
  },
  {
   "cell_type": "markdown",
   "metadata": {},
   "source": [
    "# Last Week"
   ]
  },
  {
   "cell_type": "code",
   "execution_count": 52,
   "metadata": {},
   "outputs": [
    {
     "name": "stdout",
     "output_type": "stream",
     "text": [
      "BUF vs  IND 2020\n",
      "Predicted Spread:  -0.2\n",
      "Actual Spread:  7.0\n",
      "Actual Result:  3.0\n",
      "correct\n",
      "SEA vs  LA 2020\n",
      "Predicted Spread:  -2.2\n",
      "Actual Spread:  3.0\n",
      "Actual Result:  -10.0\n",
      "correct\n",
      "WAS vs  TB 2020\n",
      "Predicted Spread:  -6.8\n",
      "Actual Spread:  -10.0\n",
      "Actual Result:  -8.0\n",
      "correct\n",
      "TEN vs  BAL 2020\n",
      "Predicted Spread:  -5.5\n",
      "Actual Spread:  -3.5\n",
      "Actual Result:  -7.0\n",
      "correct\n",
      "NO vs  CHI 2020\n",
      "Predicted Spread:  7.2\n",
      "Actual Spread:  11.0\n",
      "Actual Result:  12.0\n",
      "PIT vs  CLE 2020\n",
      "Predicted Spread:  5.3\n",
      "Actual Spread:  5.0\n",
      "Actual Result:  -11.0\n",
      "6 games with confidence of 0 points\n",
      "Predicted  4 out of  6  games correctly against the spread with 0 points confidence\n"
     ]
    }
   ],
   "source": [
    "games = pd.read_csv(\"http://www.habitatring.com/games.csv\")\n",
    "games = games[games['season']==2020]\n",
    "games = games[games['week']==18]\n",
    "games = games.filter(items = [ 'home_team','away_team', 'result','spread_line', 'season'])\n",
    "\n",
    "total = 0\n",
    "correct = 0\n",
    "\n",
    "for index, row in games.iterrows():\n",
    "    predicted = float(CalculateGame(teamIndex(row['home_team']), teamIndex(row['away_team']),theta))\n",
    "    predicted = round(predicted,1)\n",
    "    spread = row['spread_line']\n",
    "    actual = row['result']\n",
    "    if(abs(predicted-spread)>=confidencePoints):\n",
    "        print(row['home_team'], \"vs \", row['away_team'], row['season'])\n",
    "        print(\"Predicted Spread: \", predicted)\n",
    "        print(\"Actual Spread: \", spread)\n",
    "        print(\"Actual Result: \", actual )\n",
    "        total+=1\n",
    "    if((predicted+confidencePoints<=spread and actual<spread) or (predicted-confidencePoints>=spread and actual>spread)):\n",
    "        if(not math.isnan(actual)):\n",
    "            #print(row['home_team'], \"vs \", row['away_team'], row['season'])\n",
    "            #print(\"Predicted Spread: \", predicted)\n",
    "            #print(\"Actual Spread: \", spread)\n",
    "            #print(\"Actual Score: \" , actual)\n",
    "            correct+=1\n",
    "            print(\"correct\")\n",
    "    if(not math.isnan(actual) and abs(predicted-spread)>confidencePoints):\n",
    "        #if(not(predicted+confidencePoints<spread and actual<spread) and not(predicted-confidencePoints>spread and actual>spread)):\n",
    "         #   print(row['home_team'], \"vs \", row['away_team'], row['season'])\n",
    "          #  print(\"Predicted Spread: \", predicted)\n",
    "           # print(\"Actual Spread: \", spread)\n",
    "            #print(\"Actual Score: \" , actual)\n",
    "        if(spread<actual):\n",
    "            home +=1\n",
    "        elif(spread>actual):\n",
    "            away+=1\n",
    "        else: \n",
    "            tie+=1\n",
    "        \n",
    "print(total, \"games with confidence of\", confidencePoints, \"points\")\n",
    "print(\"Predicted \", correct, \"out of \", total, \" games correctly against the spread with\", confidencePoints, \"points confidence\")"
   ]
  },
  {
   "cell_type": "markdown",
   "metadata": {},
   "source": [
    "# Future Games"
   ]
  },
  {
   "cell_type": "code",
   "execution_count": 53,
   "metadata": {},
   "outputs": [
    {
     "name": "stdout",
     "output_type": "stream",
     "text": [
      "GB vs  LA 2020\n",
      "Predicted Spread:  0.5\n",
      "Actual Spread:  7.0\n",
      "BUF vs  BAL 2020\n",
      "Predicted Spread:  -2.2\n",
      "Actual Spread:  2.5\n",
      "KC vs  CLE 2020\n",
      "Predicted Spread:  7.4\n",
      "Actual Spread:  10.5\n",
      "NO vs  TB 2020\n",
      "Predicted Spread:  -1.3\n",
      "Actual Spread:  3.0\n",
      "4 games with confidence of 0 points\n"
     ]
    }
   ],
   "source": [
    "games = pd.read_csv(\"http://www.habitatring.com/games.csv\")\n",
    "games = games[games['season']==2020]\n",
    "games = games[games['week']==19]\n",
    "games = games.filter(items = [ 'home_team','away_team', 'result','spread_line', 'season'])\n",
    "\n",
    "total = 0\n",
    "correct = 0\n",
    "\n",
    "for index, row in games.iterrows():\n",
    "    predicted = float(CalculateGame(teamIndex(row['home_team']), teamIndex(row['away_team']),theta))\n",
    "    predicted = round(predicted,1)\n",
    "    spread = row['spread_line']\n",
    "    if(abs(predicted-spread)>=confidencePoints):\n",
    "        print(row['home_team'], \"vs \", row['away_team'], row['season'])\n",
    "        print(\"Predicted Spread: \", predicted)\n",
    "        print(\"Actual Spread: \", spread)\n",
    "        total+=1\n",
    "        \n",
    "print(total, \"games with confidence of\", confidencePoints, \"points\")\n"
   ]
  },
  {
   "cell_type": "markdown",
   "metadata": {},
   "source": [
    "# Home Teams"
   ]
  },
  {
   "cell_type": "code",
   "execution_count": 54,
   "metadata": {},
   "outputs": [
    {
     "name": "stdout",
     "output_type": "stream",
     "text": [
      "The average home field advantage from 2000-2019 is:  2.4350112697220134\n",
      "The average home field advantage in 2020 is:  0.14166666666666666\n"
     ]
    }
   ],
   "source": [
    "games = pd.read_csv(\"http://www.habitatring.com/games.csv\")\n",
    "games = games[games['season']>=2000]\n",
    "games = games[games['season']<2020]\n",
    "games = games.filter(items = [ 'home_team','away_team', 'result','spread_line', 'season'])\n",
    "\n",
    "total= 0;\n",
    "numGames= 0;\n",
    "for index, row in games.iterrows():\n",
    "    numGames+=1\n",
    "    total += row['result']\n",
    "    \n",
    "averagePast = total/numGames\n",
    "    \n",
    "print(\"The average home field advantage from 2000-2019 is: \" , averagePast)\n",
    "\n",
    "games = pd.read_csv(\"http://www.habitatring.com/games.csv\")\n",
    "games = games[games['season']==2020]\n",
    "games = games[games['week']<=16]\n",
    "games = games.filter(items = [ 'home_team','away_team', 'result','spread_line', 'season'])\n",
    "\n",
    "total= 0;\n",
    "numGames= 0;\n",
    "for index, row in games.iterrows():\n",
    "    numGames+=1\n",
    "    total += row['result']\n",
    "    \n",
    "average = total/numGames\n",
    "    \n",
    "print(\"The average home field advantage in 2020 is: \" , average)\n"
   ]
  },
  {
   "cell_type": "markdown",
   "metadata": {},
   "source": [
    "# Graphing"
   ]
  },
  {
   "cell_type": "code",
   "execution_count": 55,
   "metadata": {
    "scrolled": true
   },
   "outputs": [
    {
     "name": "stdout",
     "output_type": "stream",
     "text": [
      "Model Mu and Std:\n",
      "0.0011904761904762162\n",
      "11.74596682697939\n",
      "Spread Mu and Std:\n",
      "1.0138888888888888\n",
      "12.832376784327218\n"
     ]
    },
    {
     "data": {
      "image/png": "[encoded data removed]",
      "text/plain": [
       "<Figure size 432x288 with 2 Axes>"
      ]
     },
     "metadata": {
      "needs_background": "light"
     },
     "output_type": "display_data"
    }
   ],
   "source": [
    "x =  np.linspace(-50,50,1000)\n",
    "S = st.norm(muS, np.sqrt(varS))\n",
    "M = st.norm(muM, np.sqrt(varM))\n",
    "\n",
    "plt.subplot(1,2,1)\n",
    "plt.hist(Z1,15,density=True)\n",
    "plt.plot(x,M.pdf(x))\n",
    "plt.title('Predicted Model')\n",
    "plt.subplot(1,2,2)\n",
    "plt.hist(Z2,15,density=True)\n",
    "plt.plot(x,S.pdf(x))\n",
    "plt.title('Game Spreads')\n",
    "\n",
    "print(\"Model Mu and Std:\")\n",
    "print(muM)\n",
    "print(sqrt(varM))\n",
    "\n",
    "print(\"Spread Mu and Std:\")\n",
    "print(muS)\n",
    "print(sqrt(varS))\n"
   ]
  },
  {
   "cell_type": "code",
   "execution_count": null,
   "metadata": {},
   "outputs": [],
   "source": []
  }
 ],
 "metadata": {
  "kernelspec": {
   "display_name": "Python 3",
   "language": "python",
   "name": "python3"
  },
  "language_info": {
   "codemirror_mode": {
    "name": "ipython",
    "version": 3
   },
   "file_extension": ".py",
   "mimetype": "text/x-python",
   "name": "python",
   "nbconvert_exporter": "python",
   "pygments_lexer": "ipython3",
   "version": "3.7.4"
  }
 },
 "nbformat": 4,
 "nbformat_minor": 2
}
